{
 "cells": [
  {
   "cell_type": "code",
   "execution_count": 2,
   "metadata": {},
   "outputs": [],
   "source": [
    "import pandas as pd\n",
    "import requests\n",
    "import time\n",
    "import json"
   ]
  },
  {
   "cell_type": "code",
   "execution_count": 3,
   "metadata": {},
   "outputs": [],
   "source": [
    "def log_details(content):\n",
    "    with open('log.txt','a') as file:\n",
    "        file.write(content+\"\\n\")"
   ]
  },
  {
   "cell_type": "code",
   "execution_count": 4,
   "metadata": {},
   "outputs": [],
   "source": [
    "def write_file(filename,content):\n",
    "    with open(filename,'wb') as file:\n",
    "        file.write(content)"
   ]
  },
  {
   "cell_type": "code",
   "execution_count": 5,
   "metadata": {},
   "outputs": [],
   "source": [
    "def hashtag(prod):\n",
    "    name=[]\n",
    "    for i in prod:\n",
    "        name.append(i.get('name', ''))\n",
    "    return ', '.join(name)"
   ]
  },
  {
   "cell_type": "code",
   "execution_count": 6,
   "metadata": {},
   "outputs": [],
   "source": [
    "session=requests.session()\n",
    "log_details(f'Session started at \"{time.strftime(\"%H:%M:%S\", time.localtime())}\"')\n",
    "powerGlass_Api='https://api-gateway.juno.lenskart.com/v2/products/category/3426?page-size=1000&page=0'\n",
    "powerGlass=session.get(powerGlass_Api)\n",
    "write_file('powerGlass.json',powerGlass.content)\n",
    "log_details(f'requested powerGlass api and got response at \"{time.strftime(\"%H:%M:%S\", time.localtime())}\"')"
   ]
  },
  {
   "cell_type": "code",
   "execution_count": null,
   "metadata": {},
   "outputs": [],
   "source": [
    "powerGlassJson=json.loads(powerGlass.content)\n",
    "products_list=powerGlassJson['result']['product_list']\n",
    "log_details(f'Json loaded from response at \"{time.strftime(\"%H:%M:%S\", time.localtime())}\"')"
   ]
  },
  {
   "cell_type": "code",
   "execution_count": null,
   "metadata": {},
   "outputs": [],
   "source": [
    "datas = []\n",
    "for product in products_list:\n",
    "    data = {}\n",
    "    data['id'] = product.get('id', '')\n",
    "    data['image_url'] = product.get('image_url', '')\n",
    "    data['image_url_suffix'] = product.get('image_url_suffix', '')\n",
    "    data['imageUrls'] = product.get('imageUrls', [])\n",
    "    data['product_url'] = product.get('product_url', '')\n",
    "    data['color'] = product.get('color', '')\n",
    "    data['occasion'] = product.get('occasion', '')\n",
    "    data['size'] = product.get('size', '')\n",
    "    data['width'] = product.get('width', '')\n",
    "    data['brand_name'] = product.get('brand_name', '')\n",
    "    data['brand_name_en'] = product.get('brand_name_en', '')\n",
    "    data['model_name'] = product.get('model_name', '')\n",
    "    data['Market_price'] = product['prices'][0]['price'] \n",
    "    data['Lenskart_price'] = product['prices'][1]['price']\n",
    "    data['is_tbyb'] = product.get('is_tbyb', '')\n",
    "    data['tags'] = product.get('tags', [])\n",
    "    data['color_options'] = product.get('color_options', [])\n",
    "    data['totalColorAvailable'] = product.get('totalColorAvailable', '')\n",
    "    data['is_ditto'] = product.get('is_ditto', '')\n",
    "    data['classification'] = product.get('classification', '')\n",
    "    data['specifications'] = product.get('specifications', '')\n",
    "    data['wishlistCount'] = product.get('wishlistCount', '')\n",
    "    data['purchaseCount'] = product.get('purchaseCount', '')\n",
    "    data['avgRating'] = product.get('avgRating', '')\n",
    "    data['totalNoOfRatings'] = product.get('totalNoOfRatings', '')\n",
    "    data['hashtagList'] = product.get('hashtagList', [])\n",
    "    data['offerName'] = product.get('offerName', '')\n",
    "    data['cmsLinkAndroid'] = product.get('cmsLinkAndroid', '')\n",
    "    data['cmsLinkIos'] = product.get('cmsLinkIos', '')\n",
    "    data['arModelAndroidUrl'] = product.get('arModelAndroidUrl', '')\n",
    "    data['arModelIOSUrl'] = product.get('arModelIOSUrl', '')\n",
    "    data['arModelMsiteAndDesktopUrl'] = product.get('arModelMsiteAndDesktopUrl', '')\n",
    "    data['arModelOriginalUrl'] = product.get('arModelOriginalUrl', '')\n",
    "    data['qty'] = product.get('qty', '')\n",
    "    data['frameColorImage'] = product.get('frameColorImage', '')\n",
    "    data['subCollection'] = product.get('subCollection', '')\n",
    "    data['subCollectionId'] = product.get('subCollectionId', '')\n",
    "    data['relatedItems'] = product.get('relatedItems', [])\n",
    "    data['isCygnusEnabled'] = product.get('isCygnusEnabled', '')\n",
    "    data['isCashbackApplicable'] = product.get('isCashbackApplicable', '')\n",
    "    data['searchProductName'] = product.get('searchProductName', '')\n",
    "    data['prescriptionType'] = product.get('prescriptionType', '')\n",
    "    data['brand_logo'] = product.get('brand_logo', '')\n",
    "    data['suited_for'] = product.get('suited_for', '')\n",
    "    data['inclusiveText'] = product.get('inclusiveText', '')\n",
    "    data['clUsage'] = product.get('clUsage', '')\n",
    "    data['offer_image'] = product.get('offer_image', '')\n",
    "    datas.append(data)\n",
    "log_details(f'Data appended at \"{time.strftime(\"%H:%M:%S\", time.localtime())}\"')"
   ]
  },
  {
   "cell_type": "code",
   "execution_count": null,
   "metadata": {},
   "outputs": [],
   "source": [
    "df = pd.DataFrame(datas)\n",
    "df.to_csv('PowerGlasses_scrap.csv', index=False)\n",
    "log_details(f'data appended to csv file \"PowerGlasses_scrap.csv\" at \"{time.strftime(\"%H:%M:%S\", time.localtime())}\"')"
   ]
  },
  {
   "cell_type": "code",
   "execution_count": null,
   "metadata": {},
   "outputs": [],
   "source": [
    "session.close()\n",
    "log_details(f'Session closed at \"{time.strftime(\"%H:%M:%S\", time.localtime())}\"')"
   ]
  }
 ],
 "metadata": {
  "kernelspec": {
   "display_name": "Python 3",
   "language": "python",
   "name": "python3"
  },
  "language_info": {
   "codemirror_mode": {
    "name": "ipython",
    "version": 3
   },
   "file_extension": ".py",
   "mimetype": "text/x-python",
   "name": "python",
   "nbconvert_exporter": "python",
   "pygments_lexer": "ipython3",
   "version": "3.12.2"
  }
 },
 "nbformat": 4,
 "nbformat_minor": 2
}
