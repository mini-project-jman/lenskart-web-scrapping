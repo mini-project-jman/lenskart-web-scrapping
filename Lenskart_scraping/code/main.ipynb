{
 "cells": [
  {
   "cell_type": "code",
   "execution_count": 23,
   "metadata": {},
   "outputs": [],
   "source": [
    "import requests\n",
    "from bs4 import BeautifulSoup\n",
    "import pandas as pd\n",
    "import re\n",
    "import logging\n",
    "import json\n",
    "import os"
   ]
  },
  {
   "cell_type": "code",
   "execution_count": 3,
   "metadata": {},
   "outputs": [],
   "source": [
    "logging.basicConfig(filename='app.log', filemode='w',format='%(asctime)s - %(message)s', level=logging.INFO)\n",
    "logging.info('Session started')"
   ]
  },
  {
   "cell_type": "code",
   "execution_count": 4,
   "metadata": {},
   "outputs": [],
   "source": [
    "session = requests.Session()"
   ]
  },
  {
   "cell_type": "code",
   "execution_count": 38,
   "metadata": {},
   "outputs": [],
   "source": [
    "stores_url = 'https://www.lenskart.com/stores'\n",
    "stores_page = session.get(stores_url)\n"
   ]
  },
  {
   "cell_type": "code",
   "execution_count": 40,
   "metadata": {},
   "outputs": [],
   "source": [
    "slug_pattern = re.compile(r'\"slug\"\\s*:\\s*\"([^\"\\d]+)\"')\n",
    "matches = slug_pattern.findall(stores_page.text)"
   ]
  },
  {
   "cell_type": "code",
   "execution_count": 41,
   "metadata": {},
   "outputs": [
    {
     "name": "stdout",
     "output_type": "stream",
     "text": [
      "['andhra-pradesh', 'andmaan-nicobar', 'arunachal-pradesh', 'assam', 'bihar', 'chandigarh', 'chennai', 'chhattisgarh', 'dadra-and-nagar-haveli', 'delhi', 'goa', 'gujarat', 'gwalior', 'haryana', 'himachal-pradesh', 'hyderabad', 'jammu-and-kashmir', 'jharkhand', 'karnataka', 'kerala', 'madhya-pradesh', 'maharashtra', 'manipur', 'nagaland', 'new-delhi', 'odisha', 'puducherry', 'punjab', 'rajasthan', 'sikkim', 'tamil-nadu', 'tamil\\xa0nadu', 'telangana', 'tripura', 'uttar-pradesh', 'uttarakhand', 'utter-pradesh', 'uttrakhand', 'west-bengal']\n"
     ]
    }
   ],
   "source": [
    "store_locations = []\n",
    "\n",
    "for match in matches:\n",
    "    store_locations.append(match)\n",
    "print(store_locations)"
   ]
  },
  {
   "cell_type": "code",
   "execution_count": 42,
   "metadata": {},
   "outputs": [],
   "source": [
    "header = {\n",
    "    \"User-Agent\": \"Mozilla/5.0 (Windows NT 10.0; Win64; x64) AppleWebKit/537.36 (KHTML, like Gecko) Chrome/122.0.0.0 Safari/537.36\",\n",
    "    \"Xstoreaccesskey\": \"pNRq8BGvIHk/G9AwlBxKG5lz97eYDaxnWO0YYs+VrMY=\"\n",
    "}\n",
    "\n",
    "payload = {\n",
    "    \"keyword\": None,\n",
    "    \"range\": 10,\n",
    "    \"perPage\": 9999\n",
    "}"
   ]
  },
  {
   "cell_type": "code",
   "execution_count": 44,
   "metadata": {},
   "outputs": [],
   "source": [
    "\n",
    "\n",
    "for item in store_locations:\n",
    "    payload[\"keyword\"] = item\n",
    "\n",
    "    store = session.post('https://locator-stores.lenskart.com/api/v3/store/list', headers=header, json=payload)\n",
    "    store_content_json = store.text\n",
    "    file_path = os.path.join(\"Output\", f\"{item}_store.json\")  # Constructing the file path\n",
    "    with open(file_path, \"w\") as json_file:\n",
    "        json_file.write(store_content_json)"
   ]
  },
  {
   "cell_type": "code",
   "execution_count": 51,
   "metadata": {},
   "outputs": [],
   "source": [
    "import os \n",
    "import json\n",
    "all_df=[]\n",
    "data = os.listdir(\"output\")\n",
    "for i in data:\n",
    "    dir=\"output/\"+i\n",
    "    with open(dir,'r') as f:\n",
    "        all_df.append(pd.DataFrame(json.load(f)['data']['data']))"
   ]
  },
  {
   "cell_type": "code",
   "execution_count": 53,
   "metadata": {},
   "outputs": [],
   "source": [
    "pd.concat(all_df).to_csv('all_store.csv',index=None)"
   ]
  },
  {
   "cell_type": "code",
   "execution_count": null,
   "metadata": {},
   "outputs": [],
   "source": []
  }
 ],
 "metadata": {
  "kernelspec": {
   "display_name": "Python 3",
   "language": "python",
   "name": "python3"
  },
  "language_info": {
   "codemirror_mode": {
    "name": "ipython",
    "version": 3
   },
   "file_extension": ".py",
   "mimetype": "text/x-python",
   "name": "python",
   "nbconvert_exporter": "python",
   "pygments_lexer": "ipython3",
   "version": "3.10.0"
  }
 },
 "nbformat": 4,
 "nbformat_minor": 2
}
