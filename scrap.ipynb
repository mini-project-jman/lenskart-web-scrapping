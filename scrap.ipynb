{
 "cells": [
  {
   "cell_type": "code",
   "execution_count": 40,
   "metadata": {},
   "outputs": [],
   "source": [
    "import pandas as pd\n",
    "import requests\n",
    "import time\n",
    "import json"
   ]
  },
  {
   "cell_type": "code",
   "execution_count": 2,
   "metadata": {},
   "outputs": [],
   "source": [
    "def log_details(content):\n",
    "    with open('log.txt','a') as file:\n",
    "        file.write(content+\"\\n\")"
   ]
  },
  {
   "cell_type": "code",
   "execution_count": 3,
   "metadata": {},
   "outputs": [],
   "source": [
    "def write_file(filename,content):\n",
    "    with open(filename,'wb') as file:\n",
    "        file.write(content)"
   ]
  },
  {
   "cell_type": "code",
   "execution_count": 44,
   "metadata": {},
   "outputs": [],
   "source": [
    "def hashtag(prod):\n",
    "    name=[]\n",
    "    for i in prod:\n",
    "        name.append(i.get('name', ''))\n",
    "    return ', '.join(name)\n"
   ]
  },
  {
   "cell_type": "code",
   "execution_count": 57,
   "metadata": {},
   "outputs": [
    {
     "name": "stdout",
     "output_type": "stream",
     "text": [
      "<Response [200]>\n",
      "146012\n",
      "<Response [200]>\n",
      "209332\n",
      "<Response [200]>\n",
      "214486\n",
      "<Response [200]>\n",
      "208093\n",
      "<Response [200]>\n",
      "209265\n"
     ]
    }
   ],
   "source": [
    "session=requests.session()\n",
    "values=[]\n",
    "for i in range(0,5):\n",
    "    lensKart_Api=f'https://api-gateway.juno.lenskart.com/v2/products/category/3363?page-size=1000&page={i}'\n",
    "    lensKart=session.get(lensKart_Api)\n",
    "    lensKartJson=json.loads(lensKart.content)\n",
    "    products_list=lensKartJson['result']['product_list']\n",
    "    for product in products_list:\n",
    "        values_list=[]\n",
    "        values_list.append(product.get('id', ''))\n",
    "        values_list.append(product.get('image_url', ''))\n",
    "        values_list.append(product.get('image_url_suffix', ''))\n",
    "        values_list.append(product.get('imageUrls', ''))\n",
    "        values_list.append(product.get('product_url', ''))\n",
    "        values_list.append(product.get('color', ''))\n",
    "        values_list.append(product.get('occasion', ''))\n",
    "        values_list.append(product.get('size', ''))\n",
    "        values_list.append(product.get('width', ''))\n",
    "        values_list.append(product.get('brand_name', ''))\n",
    "        values_list.append(product.get('brand_name_en', ''))\n",
    "        values_list.append(product.get('model_name', ''))\n",
    "        values_list.append(product['prices'][0]['price'])\n",
    "        values_list.append(product['prices'][1]['price'])\n",
    "        values_list.append(product.get('is_tbyb', ''))\n",
    "        values_list.append(product.get('tags', ''))\n",
    "        values_list.append(product.get('color_options', ''))\n",
    "        values_list.append(product.get('totalColorAvailable', ''))\n",
    "        values_list.append(product.get('is_ditto', ''))\n",
    "        values_list.append(product.get('classification', ''))\n",
    "        values_list.append(product.get('specifications', ''))\n",
    "        values_list.append(product.get('wishlistCount', ''))\n",
    "        values_list.append(product.get('purchaseCount', ''))\n",
    "        values_list.append(product.get('avgRating', ''))\n",
    "        values_list.append(product.get('totalNoOfRatings', ''))\n",
    "        values_list.append(hashtag(product.get('hashtagList', '')))\n",
    "        values_list.append(product.get('offerName', ''))\n",
    "        values_list.append(product.get('cmsLinkAndroid', ''))\n",
    "        values_list.append(product.get('cmsLinkIos', ''))\n",
    "        values_list.append(product.get('arModelAndroidUrl', ''))\n",
    "        values_list.append(product.get('arModelIOSUrl', ''))\n",
    "        values_list.append(product.get('arModelMsiteAndDesktopUrl', ''))\n",
    "        values_list.append(product.get('arModelOriginalUrl', ''))\n",
    "        values_list.append(product.get('qty', ''))\n",
    "        values_list.append(product.get('frameColorImage', ''))\n",
    "        values_list.append(product.get('subCollection', ''))\n",
    "        values_list.append(product.get('subCollectionId', ''))\n",
    "        values_list.append(product.get('relatedItems', ''))\n",
    "        values_list.append(product.get('isCygnusEnabled', ''))\n",
    "        values_list.append(product.get('isCashbackApplicable', ''))\n",
    "        values_list.append(product.get('searchProductName', ''))\n",
    "        values_list.append(product.get('prescriptionType', ''))\n",
    "        values_list.append(product.get('brand_logo', ''))\n",
    "        values_list.append(product.get('suited_for', ''))\n",
    "        values_list.append(product.get('inclusiveText', ''))\n",
    "        values_list.append(product.get('clUsage', ''))\n",
    "        values_list.append(product.get('offer_image', ''))\n",
    "        values.append(values_list)\n",
    "    "
   ]
  },
  {
   "cell_type": "code",
   "execution_count": 49,
   "metadata": {},
   "outputs": [],
   "source": [
    "keys = [\n",
    "    \"id\",\n",
    "    \"image_url\",\n",
    "    \"image_url_suffix\",\n",
    "    \"imageUrls\",\n",
    "    \"product_url\",\n",
    "    \"color\",\n",
    "    \"occasion\",\n",
    "    \"size\",\n",
    "    \"width\",\n",
    "    \"brand_name\",\n",
    "    \"brand_name_en\",\n",
    "    \"model_name\",\n",
    "    \"Market_price\",\n",
    "    \"Lenskart_price\",\n",
    "    \"is_tbyb\",\n",
    "    \"tags\",\n",
    "    \"color_options\",\n",
    "    \"totalColorAvailable\",\n",
    "    \"is_ditto\",\n",
    "    \"classification\",\n",
    "    \"specifications\",\n",
    "    \"wishlistCount\",\n",
    "    \"purchaseCount\",\n",
    "    \"avgRating\",\n",
    "    \"totalNoOfRatings\",\n",
    "    \"hashtagList\",\n",
    "    \"offerName\",\n",
    "    \"cmsLinkAndroid\",\n",
    "    \"cmsLinkIos\",\n",
    "    \"arModelAndroidUrl\",\n",
    "    \"arModelIOSUrl\",\n",
    "    \"arModelMsiteAndDesktopUrl\",\n",
    "    \"arModelOriginalUrl\",\n",
    "    \"qty\",\n",
    "    \"frameColorImage\",\n",
    "    \"subCollection\",\n",
    "    \"subCollectionId\",\n",
    "    \"relatedItems\",\n",
    "    \"isCygnusEnabled\",\n",
    "    \"isCashbackApplicable\",\n",
    "    \"searchProductName\",\n",
    "    \"prescriptionType\",\n",
    "    \"brand_logo\",\n",
    "    \"suited_for\",\n",
    "    \"inclusiveText\",\n",
    "    \"clUsage\",\n",
    "    \"offer_image\"\n",
    "]\n"
   ]
  },
  {
   "cell_type": "code",
   "execution_count": 59,
   "metadata": {},
   "outputs": [],
   "source": [
    "df = pd.DataFrame(values,columns=keys)\n",
    "df.to_csv('LensKart.csv', index=False)"
   ]
  }
 ],
 "metadata": {
  "kernelspec": {
   "display_name": "Python 3",
   "language": "python",
   "name": "python3"
  },
  "language_info": {
   "codemirror_mode": {
    "name": "ipython",
    "version": 3
   },
   "file_extension": ".py",
   "mimetype": "text/x-python",
   "name": "python",
   "nbconvert_exporter": "python",
   "pygments_lexer": "ipython3",
   "version": "3.12.2"
  }
 },
 "nbformat": 4,
 "nbformat_minor": 2
}
