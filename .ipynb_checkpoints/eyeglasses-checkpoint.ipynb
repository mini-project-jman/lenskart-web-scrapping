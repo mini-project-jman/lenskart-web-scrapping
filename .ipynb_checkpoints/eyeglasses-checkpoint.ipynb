{
 "cells": [
  {
   "cell_type": "code",
   "execution_count": 65,
   "id": "aec8e442",
   "metadata": {},
   "outputs": [],
   "source": [
    "import requests\n",
    "import pandas as pd\n",
    "# from bs4 import BeautifulSoup\n",
    "import json\n",
    "from pandas import json_normalize\n"
   ]
  },
  {
   "cell_type": "code",
   "execution_count": 59,
   "id": "53757fbc",
   "metadata": {},
   "outputs": [
    {
     "name": "stdout",
     "output_type": "stream",
     "text": [
      "Data saved to 'products_data.csv'\n"
     ]
    }
   ],
   "source": [
    "\n",
    "\n",
    "# Initialize an empty list to store all product details\n",
    "all_data = []\n",
    "\n",
    "# Iterate over the pages\n",
    "for i in range(4):\n",
    "    eyeglasses_api = f'https://api-gateway.juno.lenskart.com/v2/products/category/3363?page-size=1400&page={i}'\n",
    "    response = requests.get(eyeglasses_api)\n",
    "\n",
    "    # Check if the request was successful (status code 200)\n",
    "    if response.status_code == 200:\n",
    "        # Parse the JSON response\n",
    "        data = response.json()\n",
    "        \n",
    "        # Append the data to the list\n",
    "        all_data.extend(data['result']['product_list'])\n",
    "\n",
    "# Flatten the list of dictionaries\n",
    "flattened_data = json_normalize(all_data)\n",
    "\n",
    "# Save the DataFrame to a CSV file\n",
    "flattened_data.to_csv('products_data.csv', index=False)\n",
    "\n",
    "print(\"Data saved to 'products_data.csv'\")\n",
    "\n"
   ]
  },
  {
   "cell_type": "code",
   "execution_count": null,
   "id": "c1dd7841",
   "metadata": {},
   "outputs": [],
   "source": []
  }
 ],
 "metadata": {
  "kernelspec": {
   "display_name": "Python 3 (ipykernel)",
   "language": "python",
   "name": "python3"
  },
  "language_info": {
   "codemirror_mode": {
    "name": "ipython",
    "version": 3
   },
   "file_extension": ".py",
   "mimetype": "text/x-python",
   "name": "python",
   "nbconvert_exporter": "python",
   "pygments_lexer": "ipython3",
   "version": "3.11.5"
  }
 },
 "nbformat": 4,
 "nbformat_minor": 5
}
